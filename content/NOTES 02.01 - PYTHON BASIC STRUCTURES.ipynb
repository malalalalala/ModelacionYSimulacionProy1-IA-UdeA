{
  "cells": [
    {
      "cell_type": "markdown",
      "metadata": {
        "id": "view-in-github",
        "colab_type": "text"
      },
      "source": [
        "<a href=\"https://colab.research.google.com/github/lauramosdim/ModelacionYSimulacionProy1-IA-UdeA/blob/main/content/NOTES%2002.01%20-%20PYTHON%20BASIC%20STRUCTURES.ipynb\" target=\"_parent\"><img src=\"https://colab.research.google.com/assets/colab-badge.svg\" alt=\"Open In Colab\"/></a>"
      ]
    },
    {
      "cell_type": "markdown",
      "metadata": {
        "id": "NnnyBGoYJw0F"
      },
      "source": [
        "# 02.01 - BASIC STRUCTURES"
      ]
    },
    {
      "cell_type": "code",
      "execution_count": null,
      "metadata": {
        "id": "rro0vBlUJw0H"
      },
      "outputs": [],
      "source": [
        "!wget --no-cache -O init.py -q https://raw.githubusercontent.com/rramosp/ai4eng.v1/main/content/init.py\n",
        "import init; init.init(force_download=False); init.get_weblink()"
      ]
    },
    {
      "cell_type": "markdown",
      "metadata": {
        "id": "ZclcVdrhJw0I"
      },
      "source": [
        "## Introduction to Python"
      ]
    },
    {
      "cell_type": "markdown",
      "metadata": {
        "id": "byknlzUtJw0J"
      },
      "source": [
        "Python is **interpreted** and **dynamically typed**. Observe in the following lines:\n",
        "\n",
        "- variables `a` and `b` have specific data types even if they are not explicitly defined.\n",
        "- python guesses their types by how they are being used (`\\\\` is integer division, while `\\` is floating point division)\n",
        "- python keeps executing stuff while no error is found $\\rightarrow$ python is interpreted"
      ]
    },
    {
      "cell_type": "code",
      "execution_count": null,
      "metadata": {
        "id": "_k4iyGGtJw0J",
        "outputId": "206a309d-3272-48d6-921a-2964eef05aeb"
      },
      "outputs": [
        {
          "name": "stdout",
          "output_type": "stream",
          "text": [
            "4 <class 'int'>\n"
          ]
        }
      ],
      "source": [
        "a = 4\n",
        "print (a, type(a))"
      ]
    },
    {
      "cell_type": "code",
      "execution_count": null,
      "metadata": {
        "id": "X--PWYndJw0K",
        "outputId": "95a7dcd8-4542-4f93-8797-a633886d2ea9"
      },
      "outputs": [
        {
          "name": "stdout",
          "output_type": "stream",
          "text": [
            "4 <class 'float'>\n"
          ]
        }
      ],
      "source": [
        "b = 9.\n",
        "print (a, type(b))"
      ]
    },
    {
      "cell_type": "code",
      "execution_count": null,
      "metadata": {
        "id": "ktjroNbVJw0K",
        "outputId": "ff5d3b1f-4528-4555-91f2-925faab024fb"
      },
      "outputs": [
        {
          "name": "stdout",
          "output_type": "stream",
          "text": [
            "2.25 <class 'float'>\n"
          ]
        }
      ],
      "source": [
        "c = 9/4\n",
        "print (c, type(c))"
      ]
    },
    {
      "cell_type": "code",
      "execution_count": null,
      "metadata": {
        "id": "wiRcOjAOJw0L",
        "outputId": "21396667-90bc-4d56-c327-49329c18ca43"
      },
      "outputs": [
        {
          "name": "stdout",
          "output_type": "stream",
          "text": [
            "2 <class 'int'>\n"
          ]
        },
        {
          "ename": "NameError",
          "evalue": "name 'x' is not defined",
          "output_type": "error",
          "traceback": [
            "\u001b[0;31m---------------------------------------------------------------------------\u001b[0m",
            "\u001b[0;31mNameError\u001b[0m                                 Traceback (most recent call last)",
            "\u001b[0;32m<ipython-input-4-35e15d72124c>\u001b[0m in \u001b[0;36m<module>\u001b[0;34m\u001b[0m\n\u001b[1;32m      1\u001b[0m \u001b[0md\u001b[0m \u001b[0;34m=\u001b[0m \u001b[0;36m9\u001b[0m\u001b[0;34m//\u001b[0m\u001b[0;36m4\u001b[0m\u001b[0;34m\u001b[0m\u001b[0;34m\u001b[0m\u001b[0m\n\u001b[1;32m      2\u001b[0m \u001b[0mprint\u001b[0m \u001b[0;34m(\u001b[0m\u001b[0md\u001b[0m\u001b[0;34m,\u001b[0m \u001b[0mtype\u001b[0m\u001b[0;34m(\u001b[0m\u001b[0md\u001b[0m\u001b[0;34m)\u001b[0m\u001b[0;34m)\u001b[0m\u001b[0;34m\u001b[0m\u001b[0;34m\u001b[0m\u001b[0m\n\u001b[0;32m----> 3\u001b[0;31m \u001b[0mprint\u001b[0m \u001b[0;34m(\u001b[0m\u001b[0mx\u001b[0m\u001b[0;34m)\u001b[0m\u001b[0;34m\u001b[0m\u001b[0;34m\u001b[0m\u001b[0m\n\u001b[0m",
            "\u001b[0;31mNameError\u001b[0m: name 'x' is not defined"
          ]
        }
      ],
      "source": [
        "d = 9//4\n",
        "print (d, type(d))\n",
        "print (x)"
      ]
    },
    {
      "cell_type": "markdown",
      "metadata": {
        "id": "CyB_vBEjJw0L"
      },
      "source": [
        "but types can be enforced, or used for data conversion"
      ]
    },
    {
      "cell_type": "code",
      "execution_count": null,
      "metadata": {
        "id": "2niFdaehJw0M",
        "outputId": "91b3bd1d-dcf2-4eb7-fb20-5363e3ffed61"
      },
      "outputs": [
        {
          "name": "stdout",
          "output_type": "stream",
          "text": [
            "1 :: 1.0\n"
          ]
        }
      ],
      "source": [
        "a = 1\n",
        "b = float(a)\n",
        "print (a, \"::\", b)"
      ]
    },
    {
      "cell_type": "code",
      "execution_count": null,
      "metadata": {
        "id": "2QHWkdq2Jw0M",
        "outputId": "fd1aab3d-4b86-4469-8ce2-ac2b5754863a"
      },
      "outputs": [
        {
          "name": "stdout",
          "output_type": "stream",
          "text": [
            "el valor de 'a' es 1\n"
          ]
        }
      ],
      "source": [
        "s = \"el valor de 'a' es \"+str(a)\n",
        "print (s)"
      ]
    },
    {
      "cell_type": "markdown",
      "metadata": {
        "id": "k87ul-D5Jw0M"
      },
      "source": [
        "## Notebook cell outputs"
      ]
    },
    {
      "cell_type": "code",
      "execution_count": null,
      "metadata": {
        "id": "7Jh9h30AJw0N",
        "outputId": "8e442c62-9ceb-4752-d931-05e8284368f1"
      },
      "outputs": [
        {
          "data": {
            "text/plain": [
              "(1, 1.0)"
            ]
          },
          "execution_count": 7,
          "metadata": {},
          "output_type": "execute_result"
        }
      ],
      "source": [
        "a = 1\n",
        "b = float(a)\n",
        "a,b"
      ]
    },
    {
      "cell_type": "code",
      "execution_count": null,
      "metadata": {
        "id": "hfJ7amscJw0N",
        "outputId": "06fa1cdc-2fe7-4314-be87-333c75c6c977"
      },
      "outputs": [
        {
          "data": {
            "text/plain": [
              "1.0"
            ]
          },
          "execution_count": 8,
          "metadata": {},
          "output_type": "execute_result"
        }
      ],
      "source": [
        "a = 1\n",
        "a\n",
        "b = float(a)\n",
        "b"
      ]
    },
    {
      "cell_type": "code",
      "execution_count": null,
      "metadata": {
        "id": "fprDl3A3Jw0N",
        "outputId": "7dcbb903-2ea6-45e8-f014-917c03788c8e"
      },
      "outputs": [
        {
          "name": "stdout",
          "output_type": "stream",
          "text": [
            "1\n"
          ]
        },
        {
          "data": {
            "text/plain": [
              "1.0"
            ]
          },
          "execution_count": 9,
          "metadata": {},
          "output_type": "execute_result"
        }
      ],
      "source": [
        "a = 1\n",
        "print (a)\n",
        "b = float(a)\n",
        "b"
      ]
    },
    {
      "cell_type": "code",
      "execution_count": null,
      "metadata": {
        "id": "wn3qoxeQJw0N"
      },
      "outputs": [],
      "source": []
    },
    {
      "cell_type": "markdown",
      "metadata": {
        "id": "68FVlvHfJw0O"
      },
      "source": [
        "## Lists\n",
        "\n",
        "ordered sequences of objects of **any** kind with cool indexing.\n",
        "\n",
        "indexing **starts at zero**."
      ]
    },
    {
      "cell_type": "code",
      "execution_count": null,
      "metadata": {
        "id": "h91q9adrJw0O"
      },
      "outputs": [],
      "source": [
        "b = [1,10, 20.5, \"hola\", 10., 12, 13, 14., 15,16, 17., 18, 19, 20.]"
      ]
    },
    {
      "cell_type": "code",
      "execution_count": null,
      "metadata": {
        "id": "W08jhO94Jw0O",
        "outputId": "a90e3643-36c5-4b8c-f702-5c1ff7b91b8f"
      },
      "outputs": [
        {
          "name": "stdout",
          "output_type": "stream",
          "text": [
            "14\n"
          ]
        }
      ],
      "source": [
        "print (len(b))"
      ]
    },
    {
      "cell_type": "code",
      "execution_count": null,
      "metadata": {
        "id": "Bw1I7dQGJw0O",
        "outputId": "0878401d-39ac-4566-fb54-aa3494ff6b0e"
      },
      "outputs": [
        {
          "name": "stdout",
          "output_type": "stream",
          "text": [
            "[1, 10, 20.5]\n"
          ]
        }
      ],
      "source": [
        "print (b[:3])"
      ]
    },
    {
      "cell_type": "code",
      "execution_count": null,
      "metadata": {
        "id": "2WilLacIJw0O",
        "outputId": "341b0f20-c97f-4796-8dc1-ef8856e004e9"
      },
      "outputs": [
        {
          "name": "stdout",
          "output_type": "stream",
          "text": [
            "['hola', 10.0, 12, 13, 14.0, 15, 16, 17.0, 18, 19, 20.0]\n"
          ]
        }
      ],
      "source": [
        "print (b[3:])"
      ]
    },
    {
      "cell_type": "code",
      "execution_count": null,
      "metadata": {
        "id": "oZjSt5UJJw0O",
        "outputId": "80c0d197-d910-44bb-c19c-c0990171f976"
      },
      "outputs": [
        {
          "name": "stdout",
          "output_type": "stream",
          "text": [
            "[18, 19, 20.0]\n"
          ]
        }
      ],
      "source": [
        "print (b[-3:])"
      ]
    },
    {
      "cell_type": "code",
      "execution_count": null,
      "metadata": {
        "id": "noJ2-iuWJw0P",
        "outputId": "35340e36-e777-4bc8-c380-7075a9ac440e"
      },
      "outputs": [
        {
          "name": "stdout",
          "output_type": "stream",
          "text": [
            "10.0\n"
          ]
        }
      ],
      "source": [
        "print (b[4])"
      ]
    },
    {
      "cell_type": "code",
      "execution_count": null,
      "metadata": {
        "id": "QrGN8NkEJw0P",
        "outputId": "4400a8d1-2cf8-4c31-e80c-45211316155d"
      },
      "outputs": [
        {
          "name": "stdout",
          "output_type": "stream",
          "text": [
            "[12, 13, 14.0, 15, 16]\n"
          ]
        }
      ],
      "source": [
        "print (b[5:10])"
      ]
    },
    {
      "cell_type": "code",
      "execution_count": null,
      "metadata": {
        "id": "oQ_xe8nBJw0P",
        "outputId": "bb19bd34-ca7d-4916-993d-06a44693707f"
      },
      "outputs": [
        {
          "name": "stdout",
          "output_type": "stream",
          "text": [
            "[16, 17.0, 18]\n"
          ]
        }
      ],
      "source": [
        "print (b[-5:-2])"
      ]
    },
    {
      "cell_type": "code",
      "execution_count": null,
      "metadata": {
        "id": "EeZIs5WZJw0P",
        "outputId": "aac23532-b1ed-43b8-955c-0b06d6c6e88d"
      },
      "outputs": [
        {
          "name": "stdout",
          "output_type": "stream",
          "text": [
            "[1, 20.5, 10.0, 13, 15, 17.0, 19]\n"
          ]
        }
      ],
      "source": [
        "print (b[::2])"
      ]
    },
    {
      "cell_type": "code",
      "execution_count": null,
      "metadata": {
        "id": "GI7SnncAJw0P",
        "outputId": "460bef34-59c2-418f-a261-e0384640de91"
      },
      "outputs": [
        {
          "name": "stdout",
          "output_type": "stream",
          "text": [
            "[20.0, 19, 18, 17.0, 16, 15, 14.0, 13, 12, 10.0, 'hola', 20.5, 10, 1]\n"
          ]
        }
      ],
      "source": [
        "print (b[::-1])"
      ]
    },
    {
      "cell_type": "code",
      "execution_count": null,
      "metadata": {
        "id": "XgWbtjRYJw0P",
        "outputId": "86784aa6-b5b2-4b22-cc8a-8c4c0c86b26b"
      },
      "outputs": [
        {
          "data": {
            "text/plain": [
              "[1, 10, 20.5, 'hola', 10.0, 12, 13, 14.0, 15, 16, 17.0, 18, 19, 20.0, 'elfin']"
            ]
          },
          "execution_count": 90,
          "metadata": {},
          "output_type": "execute_result"
        }
      ],
      "source": [
        "b.append('elfin')\n",
        "b"
      ]
    },
    {
      "cell_type": "markdown",
      "metadata": {
        "id": "ta2WZf-OJw0Q"
      },
      "source": [
        "can use variables as indexes"
      ]
    },
    {
      "cell_type": "code",
      "execution_count": null,
      "metadata": {
        "id": "fJm-2gAYJw0Q",
        "outputId": "1c050af9-92bf-45a8-ad5f-aa7df69d5c05"
      },
      "outputs": [
        {
          "name": "stdout",
          "output_type": "stream",
          "text": [
            "13 --> 20.0\n"
          ]
        }
      ],
      "source": [
        "import numpy as np\n",
        "i = np.random.randint(len(b))\n",
        "print (i, '-->', b[i])"
      ]
    },
    {
      "cell_type": "markdown",
      "metadata": {
        "id": "7_gUeKv4Jw0Q"
      },
      "source": [
        "truly **any** object"
      ]
    },
    {
      "cell_type": "code",
      "execution_count": null,
      "metadata": {
        "id": "a_mtLoF5Jw0Q"
      },
      "outputs": [],
      "source": [
        "a = 32\n",
        "b = 10\n",
        "s = [1,2,3,\"hola\", [10, \"nunca\", 90], a==b, -32]"
      ]
    },
    {
      "cell_type": "code",
      "execution_count": null,
      "metadata": {
        "id": "IYwYOvIWJw0Q",
        "outputId": "9ec90234-53eb-4942-c616-8407f8bcf121"
      },
      "outputs": [
        {
          "name": "stdout",
          "output_type": "stream",
          "text": [
            "[1, 2, 3, 'hola', [10, 'nunca', 90], False, -32]\n"
          ]
        }
      ],
      "source": [
        "print (s)"
      ]
    },
    {
      "cell_type": "code",
      "execution_count": null,
      "metadata": {
        "id": "Tawe9PyEJw0R",
        "outputId": "735fbc01-0c28-4cbb-de1d-c764a2e85cf6"
      },
      "outputs": [
        {
          "name": "stdout",
          "output_type": "stream",
          "text": [
            "7\n"
          ]
        }
      ],
      "source": [
        "print (len(s))"
      ]
    },
    {
      "cell_type": "code",
      "execution_count": null,
      "metadata": {
        "id": "MOPcRcH0Jw0R",
        "outputId": "892c8c23-e115-4a72-cdeb-22d659630822"
      },
      "outputs": [
        {
          "data": {
            "text/plain": [
              "[10, 'nunca', 90]"
            ]
          },
          "execution_count": 25,
          "metadata": {},
          "output_type": "execute_result"
        }
      ],
      "source": [
        "s[4]"
      ]
    },
    {
      "cell_type": "code",
      "execution_count": null,
      "metadata": {
        "id": "g-RVxtwqJw0R",
        "outputId": "5f45669b-3894-4827-d3e2-241d5e85b0e0"
      },
      "outputs": [
        {
          "data": {
            "text/plain": [
              "'nunca'"
            ]
          },
          "execution_count": 26,
          "metadata": {},
          "output_type": "execute_result"
        }
      ],
      "source": [
        "s[4][1]"
      ]
    },
    {
      "cell_type": "code",
      "execution_count": null,
      "metadata": {
        "id": "tUwDkp0rJw0R",
        "outputId": "301e7dab-23df-43e1-8f63-92f74feed2ac"
      },
      "outputs": [
        {
          "data": {
            "text/plain": [
              "'o'"
            ]
          },
          "execution_count": 27,
          "metadata": {},
          "output_type": "execute_result"
        }
      ],
      "source": [
        "s[3][1]"
      ]
    },
    {
      "cell_type": "code",
      "execution_count": null,
      "metadata": {
        "id": "SoO_QFmeJw0R",
        "outputId": "e47d544a-b184-46ed-bf48-342d966a9e5a"
      },
      "outputs": [
        {
          "ename": "TypeError",
          "evalue": "'int' object is not subscriptable",
          "output_type": "error",
          "traceback": [
            "\u001b[0;31m---------------------------------------------------------------------------\u001b[0m",
            "\u001b[0;31mTypeError\u001b[0m                                 Traceback (most recent call last)",
            "\u001b[0;32m<ipython-input-28-3e154303a25b>\u001b[0m in \u001b[0;36m<module>\u001b[0;34m\u001b[0m\n\u001b[0;32m----> 1\u001b[0;31m \u001b[0ms\u001b[0m\u001b[0;34m[\u001b[0m\u001b[0;36m2\u001b[0m\u001b[0;34m]\u001b[0m\u001b[0;34m[\u001b[0m\u001b[0;36m1\u001b[0m\u001b[0;34m]\u001b[0m\u001b[0;34m\u001b[0m\u001b[0;34m\u001b[0m\u001b[0m\n\u001b[0m",
            "\u001b[0;31mTypeError\u001b[0m: 'int' object is not subscriptable"
          ]
        }
      ],
      "source": [
        "s[2][1]"
      ]
    },
    {
      "cell_type": "markdown",
      "metadata": {
        "id": "TUY_ncdcJw0R"
      },
      "source": [
        "**some list operations**"
      ]
    },
    {
      "cell_type": "code",
      "execution_count": null,
      "metadata": {
        "id": "2F8jI4spJw0W"
      },
      "outputs": [],
      "source": [
        "a = [\"hola\", 2, \"adios\"]\n",
        "b = [-10., 1, [3, 4]]"
      ]
    },
    {
      "cell_type": "code",
      "execution_count": null,
      "metadata": {
        "id": "IoOl1CCuJw0W",
        "outputId": "9d8b1ad7-1cb4-4690-bbd4-69cbe78a9c8d"
      },
      "outputs": [
        {
          "data": {
            "text/plain": [
              "['hola', 2, 'adios', -10.0, 1, [3, 4]]"
            ]
          },
          "execution_count": 33,
          "metadata": {},
          "output_type": "execute_result"
        }
      ],
      "source": [
        "a + b"
      ]
    },
    {
      "cell_type": "code",
      "execution_count": null,
      "metadata": {
        "id": "tnVRmgGtJw0W",
        "outputId": "de23c4fb-4dc6-411e-b3f8-7de7279b03b9"
      },
      "outputs": [
        {
          "data": {
            "text/plain": [
              "['hola', 2, 'adios', 'hola', 2, 'adios']"
            ]
          },
          "execution_count": 34,
          "metadata": {},
          "output_type": "execute_result"
        }
      ],
      "source": [
        "a + a"
      ]
    },
    {
      "cell_type": "code",
      "execution_count": null,
      "metadata": {
        "id": "NZ3OJLzBJw0X",
        "outputId": "e3edc3bc-aeeb-4382-a054-f08953fd1026"
      },
      "outputs": [
        {
          "data": {
            "text/plain": [
              "['hola', 2, 'adios', 'hola', 2, 'adios']"
            ]
          },
          "execution_count": 35,
          "metadata": {},
          "output_type": "execute_result"
        }
      ],
      "source": [
        "a*2"
      ]
    },
    {
      "cell_type": "code",
      "execution_count": null,
      "metadata": {
        "id": "Gs6ae4L0Jw0X",
        "outputId": "fae4b6d6-1161-444f-8978-b79038da3596"
      },
      "outputs": [
        {
          "ename": "TypeError",
          "evalue": "unsupported operand type(s) for -: 'list' and 'list'",
          "output_type": "error",
          "traceback": [
            "\u001b[0;31m---------------------------------------------------------------------------\u001b[0m",
            "\u001b[0;31mTypeError\u001b[0m                                 Traceback (most recent call last)",
            "\u001b[0;32m<ipython-input-36-09bd029d0285>\u001b[0m in \u001b[0;36m<module>\u001b[0;34m\u001b[0m\n\u001b[0;32m----> 1\u001b[0;31m \u001b[0ma\u001b[0m \u001b[0;34m-\u001b[0m \u001b[0mb\u001b[0m\u001b[0;34m\u001b[0m\u001b[0;34m\u001b[0m\u001b[0m\n\u001b[0m",
            "\u001b[0;31mTypeError\u001b[0m: unsupported operand type(s) for -: 'list' and 'list'"
          ]
        }
      ],
      "source": [
        "a - b"
      ]
    },
    {
      "cell_type": "code",
      "execution_count": null,
      "metadata": {
        "id": "vWUfYvaAJw0X",
        "outputId": "5451369c-12bc-45c1-9acc-c3aaa5839ead"
      },
      "outputs": [
        {
          "data": {
            "text/plain": [
              "True"
            ]
          },
          "execution_count": 37,
          "metadata": {},
          "output_type": "execute_result"
        }
      ],
      "source": [
        "2 in a"
      ]
    },
    {
      "cell_type": "code",
      "execution_count": null,
      "metadata": {
        "id": "Pa3i9LurJw0X",
        "outputId": "4dd9cf87-9050-42a1-adc2-156a28dbc086"
      },
      "outputs": [
        {
          "data": {
            "text/plain": [
              "True"
            ]
          },
          "execution_count": 38,
          "metadata": {},
          "output_type": "execute_result"
        }
      ],
      "source": [
        "\"hola\" not in b"
      ]
    },
    {
      "cell_type": "code",
      "execution_count": null,
      "metadata": {
        "id": "UZ6Ujf0uJw0X",
        "outputId": "7c6f74c6-6324-4d70-fc51-5c1bde931057"
      },
      "outputs": [
        {
          "data": {
            "text/plain": [
              "True"
            ]
          },
          "execution_count": 39,
          "metadata": {},
          "output_type": "execute_result"
        }
      ],
      "source": [
        "[3,4] in b"
      ]
    },
    {
      "cell_type": "code",
      "execution_count": null,
      "metadata": {
        "id": "wtLmAnklJw0Y"
      },
      "outputs": [],
      "source": []
    },
    {
      "cell_type": "markdown",
      "metadata": {
        "id": "wKc1ypxZJw0Y"
      },
      "source": [
        "## Strings\n",
        "\n",
        "a string is like a special kind of list"
      ]
    },
    {
      "cell_type": "code",
      "execution_count": null,
      "metadata": {
        "id": "wGYguuk0Jw0Y",
        "outputId": "444ebed9-1d63-4289-e64b-571edf68f606"
      },
      "outputs": [
        {
          "data": {
            "text/plain": [
              "'en un lugar de la mancha'"
            ]
          },
          "execution_count": 40,
          "metadata": {},
          "output_type": "execute_result"
        }
      ],
      "source": [
        "a = \"en un lugar de la mancha\"\n",
        "a"
      ]
    },
    {
      "cell_type": "code",
      "execution_count": null,
      "metadata": {
        "id": "4Ibze6TKJw0Y",
        "outputId": "58f54806-6f97-43d4-8ccf-95b24da83cbd"
      },
      "outputs": [
        {
          "data": {
            "text/plain": [
              "'un lugar de la mancha'"
            ]
          },
          "execution_count": 41,
          "metadata": {},
          "output_type": "execute_result"
        }
      ],
      "source": [
        "a[3:]"
      ]
    },
    {
      "cell_type": "code",
      "execution_count": null,
      "metadata": {
        "id": "7PJRf_UdJw0Y",
        "outputId": "8d15eda7-a564-41bf-e205-811027fe1f7f"
      },
      "outputs": [
        {
          "data": {
            "text/plain": [
              "' la mancha'"
            ]
          },
          "execution_count": 42,
          "metadata": {},
          "output_type": "execute_result"
        }
      ],
      "source": [
        "a[-10:]"
      ]
    },
    {
      "cell_type": "code",
      "execution_count": null,
      "metadata": {
        "id": "qwCDtkpmJw0Y",
        "outputId": "f3c38cfe-4a39-41e8-89b7-f7a53b117fc4"
      },
      "outputs": [
        {
          "data": {
            "text/plain": [
              "'ahcnam al ed ragul nu ne'"
            ]
          },
          "execution_count": 43,
          "metadata": {},
          "output_type": "execute_result"
        }
      ],
      "source": [
        "a[::-1]"
      ]
    },
    {
      "cell_type": "code",
      "execution_count": null,
      "metadata": {
        "id": "ZW3Dff-KJw0Z",
        "outputId": "48b3bc49-579a-4278-9402-cf816c0f3e89"
      },
      "outputs": [
        {
          "data": {
            "text/plain": [
              "'e nlgrd amnh'"
            ]
          },
          "execution_count": 44,
          "metadata": {},
          "output_type": "execute_result"
        }
      ],
      "source": [
        "a[::2]"
      ]
    },
    {
      "cell_type": "code",
      "execution_count": null,
      "metadata": {
        "id": "ZL52ouRxJw0Z",
        "outputId": "5c80d913-eaf2-4ce0-ea3d-a5bbb9aea8d0"
      },
      "outputs": [
        {
          "data": {
            "text/plain": [
              "True"
            ]
          },
          "execution_count": 45,
          "metadata": {},
          "output_type": "execute_result"
        }
      ],
      "source": [
        "'lugar' in a"
      ]
    },
    {
      "cell_type": "markdown",
      "metadata": {
        "id": "WbK9SlzaJw0Z"
      },
      "source": [
        "with special operations"
      ]
    },
    {
      "cell_type": "code",
      "execution_count": null,
      "metadata": {
        "id": "k-Gbzr3SJw0Z",
        "outputId": "3a6bc78a-f840-4d9c-89fb-9a694bd253d2"
      },
      "outputs": [
        {
          "data": {
            "text/plain": [
              "['en', 'un', 'lugar', 'de', 'la', 'mancha']"
            ]
          },
          "execution_count": 46,
          "metadata": {},
          "output_type": "execute_result"
        }
      ],
      "source": [
        "words = a.split()\n",
        "words"
      ]
    },
    {
      "cell_type": "code",
      "execution_count": null,
      "metadata": {
        "id": "WBljLAJwJw0Z",
        "outputId": "08b6eea5-663f-43f4-d974-3ae2609f80b3"
      },
      "outputs": [
        {
          "data": {
            "text/plain": [
              "'en::un::lugar::de::la::mancha'"
            ]
          },
          "execution_count": 47,
          "metadata": {},
          "output_type": "execute_result"
        }
      ],
      "source": [
        "\"::\".join(words)"
      ]
    },
    {
      "cell_type": "code",
      "execution_count": null,
      "metadata": {
        "id": "hHrGK4_hJw0a",
        "outputId": "05b9273c-a4a0-45a3-ae00-d5cb3b5c6079"
      },
      "outputs": [
        {
          "data": {
            "text/plain": [
              "'EN UN LUGAR DE LA MANCHA'"
            ]
          },
          "execution_count": 48,
          "metadata": {},
          "output_type": "execute_result"
        }
      ],
      "source": [
        "a.upper()"
      ]
    },
    {
      "cell_type": "code",
      "execution_count": null,
      "metadata": {
        "id": "gnKcLkqaJw0a",
        "outputId": "de0622e5-0537-423e-f086-3a1e0a6ea60f"
      },
      "outputs": [
        {
          "data": {
            "text/plain": [
              "True"
            ]
          },
          "execution_count": 49,
          "metadata": {},
          "output_type": "execute_result"
        }
      ],
      "source": [
        "a.startswith(\"en\")"
      ]
    },
    {
      "cell_type": "code",
      "execution_count": null,
      "metadata": {
        "id": "RKTJ8l1pJw0a",
        "outputId": "b01734e0-1688-4592-ff03-6409e031ff1b"
      },
      "outputs": [
        {
          "data": {
            "text/plain": [
              "False"
            ]
          },
          "execution_count": 50,
          "metadata": {},
          "output_type": "execute_result"
        }
      ],
      "source": [
        "a.endswith(\"lugar\")"
      ]
    },
    {
      "cell_type": "code",
      "execution_count": null,
      "metadata": {
        "id": "TwNS1hWiJw0a",
        "outputId": "1669127c-6978-4d7a-918b-4bd9cc3d08bd"
      },
      "outputs": [
        {
          "data": {
            "text/plain": [
              "6"
            ]
          },
          "execution_count": 51,
          "metadata": {},
          "output_type": "execute_result"
        }
      ],
      "source": [
        "a.find('lugar')"
      ]
    },
    {
      "cell_type": "code",
      "execution_count": null,
      "metadata": {
        "id": "7SVII5ceJw0a",
        "outputId": "69046fcc-df41-418b-d24e-ac87fd0b27ef"
      },
      "outputs": [
        {
          "data": {
            "text/plain": [
              "'lugar de la mancha'"
            ]
          },
          "execution_count": 52,
          "metadata": {},
          "output_type": "execute_result"
        }
      ],
      "source": [
        "a[a.find('lugar'):]"
      ]
    },
    {
      "cell_type": "code",
      "execution_count": null,
      "metadata": {
        "id": "ij3LkPzMJw0a"
      },
      "outputs": [],
      "source": []
    },
    {
      "cell_type": "markdown",
      "metadata": {
        "id": "SigPK81DJw0a"
      },
      "source": [
        "## `for` loops\n",
        "\n",
        "unlike other languages, `for` loops are defined over **iterables**. A `list` is an iterable, and there are many other iterables.\n",
        "\n",
        "Python syntax is **indented**.\n",
        "\n",
        "Observe python determines the semantics of `*` according to the context"
      ]
    },
    {
      "cell_type": "code",
      "execution_count": null,
      "metadata": {
        "id": "PwS7dJ9xJw0b"
      },
      "outputs": [],
      "source": [
        "b = [1,10, 20.5, \"hola\", 10.]"
      ]
    },
    {
      "cell_type": "code",
      "execution_count": null,
      "metadata": {
        "id": "cbZ7mKPOJw0b",
        "outputId": "18c3f79c-f976-4854-f343-7412068c50ff"
      },
      "outputs": [
        {
          "name": "stdout",
          "output_type": "stream",
          "text": [
            "1 --> <class 'int'> x2 --> 2\n",
            "10 --> <class 'int'> x2 --> 20\n",
            "20.5 --> <class 'float'> x2 --> 41.0\n",
            "hola --> <class 'str'> x2 --> holahola\n",
            "10.0 --> <class 'float'> x2 --> 20.0\n"
          ]
        }
      ],
      "source": [
        "for i in b:\n",
        "    print (i, \"-->\", type(i), \"x2 -->\", i*2)"
      ]
    },
    {
      "cell_type": "markdown",
      "metadata": {
        "id": "JzUpHMFiJw0b"
      },
      "source": [
        "another example of python as interpreted language"
      ]
    },
    {
      "cell_type": "code",
      "execution_count": null,
      "metadata": {
        "id": "3PVKu5TIJw0b",
        "outputId": "469d723b-9907-4bc8-ebcd-85c2b1c5a66b"
      },
      "outputs": [
        {
          "name": "stdout",
          "output_type": "stream",
          "text": [
            "1 --> <class 'int'> x2 --> 1\n",
            "10 --> <class 'int'> x2 --> 100\n",
            "20.5 --> <class 'float'> x2 --> 420.25\n"
          ]
        },
        {
          "ename": "TypeError",
          "evalue": "unsupported operand type(s) for ** or pow(): 'str' and 'int'",
          "output_type": "error",
          "traceback": [
            "\u001b[0;31m---------------------------------------------------------------------------\u001b[0m",
            "\u001b[0;31mTypeError\u001b[0m                                 Traceback (most recent call last)",
            "\u001b[0;32m<ipython-input-55-4b8904782ded>\u001b[0m in \u001b[0;36m<module>\u001b[0;34m\u001b[0m\n\u001b[1;32m      1\u001b[0m \u001b[0mb\u001b[0m \u001b[0;34m=\u001b[0m \u001b[0;34m[\u001b[0m\u001b[0;36m1\u001b[0m\u001b[0;34m,\u001b[0m\u001b[0;36m10\u001b[0m\u001b[0;34m,\u001b[0m \u001b[0;36m20.5\u001b[0m\u001b[0;34m,\u001b[0m \u001b[0;34m\"hola\"\u001b[0m\u001b[0;34m,\u001b[0m \u001b[0;36m10.\u001b[0m\u001b[0;34m]\u001b[0m\u001b[0;34m\u001b[0m\u001b[0;34m\u001b[0m\u001b[0m\n\u001b[1;32m      2\u001b[0m \u001b[0;32mfor\u001b[0m \u001b[0mi\u001b[0m \u001b[0;32min\u001b[0m \u001b[0mb\u001b[0m\u001b[0;34m:\u001b[0m\u001b[0;34m\u001b[0m\u001b[0;34m\u001b[0m\u001b[0m\n\u001b[0;32m----> 3\u001b[0;31m     \u001b[0mprint\u001b[0m \u001b[0;34m(\u001b[0m\u001b[0mi\u001b[0m\u001b[0;34m,\u001b[0m \u001b[0;34m\"-->\"\u001b[0m\u001b[0;34m,\u001b[0m \u001b[0mtype\u001b[0m\u001b[0;34m(\u001b[0m\u001b[0mi\u001b[0m\u001b[0;34m)\u001b[0m\u001b[0;34m,\u001b[0m \u001b[0;34m\"x2 -->\"\u001b[0m\u001b[0;34m,\u001b[0m \u001b[0mi\u001b[0m\u001b[0;34m**\u001b[0m\u001b[0;36m2\u001b[0m\u001b[0;34m)\u001b[0m\u001b[0;34m\u001b[0m\u001b[0;34m\u001b[0m\u001b[0m\n\u001b[0m",
            "\u001b[0;31mTypeError\u001b[0m: unsupported operand type(s) for ** or pow(): 'str' and 'int'"
          ]
        }
      ],
      "source": [
        "b = [1,10, 20.5, \"hola\", 10.]\n",
        "for i in b:\n",
        "    print (i, \"-->\", type(i), \"x2 -->\", i**2)"
      ]
    },
    {
      "cell_type": "markdown",
      "metadata": {
        "id": "ejceCOkWJw0b"
      },
      "source": [
        "**iterators**\n",
        "\n",
        "sometimes we do not need to hold all the contents of a list in memory, but they can be generated as they are being asked for."
      ]
    },
    {
      "cell_type": "code",
      "execution_count": null,
      "metadata": {
        "scrolled": true,
        "id": "HalWbcdfJw0b",
        "outputId": "59a6255b-5d59-4711-9958-23933b5cc075"
      },
      "outputs": [
        {
          "data": {
            "text/plain": [
              "range(-3, 10, 2)"
            ]
          },
          "execution_count": 56,
          "metadata": {},
          "output_type": "execute_result"
        }
      ],
      "source": [
        "k = range(-3,10,2)\n",
        "k"
      ]
    },
    {
      "cell_type": "markdown",
      "metadata": {
        "id": "9X3czXUoJw0c"
      },
      "source": [
        "size in memory"
      ]
    },
    {
      "cell_type": "code",
      "execution_count": null,
      "metadata": {
        "id": "VXN7_FzDJw0c",
        "outputId": "856c46c0-bba2-4e4f-a84c-f13c1e002f96"
      },
      "outputs": [
        {
          "data": {
            "text/plain": [
              "48"
            ]
          },
          "execution_count": 57,
          "metadata": {},
          "output_type": "execute_result"
        }
      ],
      "source": [
        "k.__sizeof__()"
      ]
    },
    {
      "cell_type": "code",
      "execution_count": null,
      "metadata": {
        "id": "WzgZmi1BJw0c",
        "outputId": "675497c7-a1d9-4961-9117-9b7335628414"
      },
      "outputs": [
        {
          "name": "stdout",
          "output_type": "stream",
          "text": [
            "-3, -1, 1, 3, 5, 7, 9, "
          ]
        }
      ],
      "source": [
        "for i in k:\n",
        "    print (i, end=\", \")"
      ]
    },
    {
      "cell_type": "code",
      "execution_count": null,
      "metadata": {
        "id": "tHaJMpWDJw0c",
        "outputId": "f14d8cc7-4c8d-49ba-a602-2204d2ec7079"
      },
      "outputs": [
        {
          "data": {
            "text/plain": [
              "48"
            ]
          },
          "execution_count": 59,
          "metadata": {},
          "output_type": "execute_result"
        }
      ],
      "source": [
        "big_range = range(0,100000,2)\n",
        "big_range.__sizeof__()"
      ]
    },
    {
      "cell_type": "code",
      "execution_count": null,
      "metadata": {
        "id": "oz1iyz3xJw0c",
        "outputId": "3fe877c8-e852-4f8f-d375-d0f5f08fea1a"
      },
      "outputs": [
        {
          "data": {
            "text/plain": [
              "2499950000"
            ]
          },
          "execution_count": 60,
          "metadata": {},
          "output_type": "execute_result"
        }
      ],
      "source": [
        "s = 0\n",
        "for i in big_range:\n",
        "    s += i\n",
        "s"
      ]
    },
    {
      "cell_type": "markdown",
      "metadata": {
        "id": "Jv5qAzkPJw0d"
      },
      "source": [
        "if converted to a list, then they are physically in memory"
      ]
    },
    {
      "cell_type": "code",
      "execution_count": null,
      "metadata": {
        "id": "1EK8GRbFJw0d",
        "outputId": "35349d6f-0414-45c2-8b32-b9a737d4b6cb"
      },
      "outputs": [
        {
          "data": {
            "text/plain": [
              "450088"
            ]
          },
          "execution_count": 61,
          "metadata": {},
          "output_type": "execute_result"
        }
      ],
      "source": [
        "a = list(big_range)\n",
        "a.__sizeof__()"
      ]
    },
    {
      "cell_type": "markdown",
      "metadata": {
        "id": "TT8Sk85OJw0d"
      },
      "source": [
        "zip iterators"
      ]
    },
    {
      "cell_type": "code",
      "execution_count": null,
      "metadata": {
        "id": "uKORfIhmJw0d",
        "outputId": "16d25549-578f-4a0a-d184-368d1f3270e9"
      },
      "outputs": [
        {
          "name": "stdout",
          "output_type": "stream",
          "text": [
            "nada 1\n",
            "adios 10\n",
            "10.0 20.5\n"
          ]
        }
      ],
      "source": [
        "a = [\"nada\", \"adios\", 10.]\n",
        "b = [1,10, 20.5, \"hola\", 10.]\n",
        "\n",
        "for i,j in zip(a,b):\n",
        "    print (i,j)"
      ]
    },
    {
      "cell_type": "code",
      "execution_count": null,
      "metadata": {
        "id": "rg6N4qnBJw0d"
      },
      "outputs": [],
      "source": []
    },
    {
      "cell_type": "markdown",
      "metadata": {
        "id": "Fdszn1CXJw0d"
      },
      "source": [
        "## Other control structures\n",
        "\n",
        "string formatting / if / then / break / continue / while, etc."
      ]
    },
    {
      "cell_type": "code",
      "execution_count": null,
      "metadata": {
        "id": "rXauD7L9Jw0e",
        "outputId": "0a023957-81a4-407c-98ee-0c6015b364cc"
      },
      "outputs": [
        {
          "name": "stdout",
          "output_type": "stream",
          "text": [
            "1 <class 'int'>\n",
            "10 <class 'int'>\n",
            "20.5 <class 'float'>\n"
          ]
        }
      ],
      "source": [
        "b = [1,10, 20.5, \"hola\", 10., 12]\n",
        "for i in b:\n",
        "    if i=='hola':\n",
        "        break\n",
        "    print (i, type(i))"
      ]
    },
    {
      "cell_type": "code",
      "execution_count": null,
      "metadata": {
        "id": "B9ypPxQtJw0e",
        "outputId": "29e37480-d9d6-4bc4-e5c7-ffd79d8266b5"
      },
      "outputs": [
        {
          "name": "stdout",
          "output_type": "stream",
          "text": [
            "INT 1 <class 'int'>\n",
            "INT 10 <class 'int'>\n",
            ">10 20.5 <class 'float'>\n"
          ]
        }
      ],
      "source": [
        "b = [1,10, 20.5, \"hola\", 10., 12]\n",
        "for i in b:\n",
        "    if i=='hola':\n",
        "        break\n",
        "    elif type(i)==int:\n",
        "        print (\"INT\", end=\" \")\n",
        "    elif i>10:\n",
        "        print (\">10\", end=\" \")\n",
        "    print (i, type(i))"
      ]
    },
    {
      "cell_type": "code",
      "execution_count": null,
      "metadata": {
        "id": "SqegcF5zJw0e",
        "outputId": "c5779721-9321-4271-9aa7-22f45fe9c857"
      },
      "outputs": [
        {
          "name": "stdout",
          "output_type": "stream",
          "text": [
            "INT 1 <class 'int'>\n",
            "INT 10 <class 'int'>\n",
            ">10 20.5 <class 'float'>\n",
            "UNK 10.0 <class 'float'>\n",
            "INT 12 <class 'int'>\n"
          ]
        }
      ],
      "source": [
        "for i in b:\n",
        "    if i=='hola':\n",
        "        continue\n",
        "    elif type(i)==int:\n",
        "        print (\"INT\", end=\" \")\n",
        "    elif i>10:\n",
        "        print (\">10\", end=\" \")\n",
        "    else:\n",
        "        print (\"UNK\", end=\" \")\n",
        "    print (i, type(i))\n",
        ""
      ]
    },
    {
      "cell_type": "code",
      "execution_count": null,
      "metadata": {
        "id": "IAkAedt6Jw0e",
        "outputId": "1876406e-97b0-4956-a859-04959329588f"
      },
      "outputs": [
        {
          "name": "stdout",
          "output_type": "stream",
          "text": [
            "00 ::   1.0 ::        <class 'int'>\n",
            "01 ::  10.0 ::        <class 'int'>\n",
            "02 ::  20.5 ::      <class 'float'>\n",
            "04 ::  10.0 ::      <class 'float'>\n",
            "05 ::  12.0 ::        <class 'int'>\n"
          ]
        }
      ],
      "source": [
        "for pos, i in enumerate(b):\n",
        "    if i=='hola':\n",
        "        continue\n",
        "    print (\"%02d :: %5.1f :: %20s\"%(pos,i,type(i)))"
      ]
    },
    {
      "cell_type": "code",
      "execution_count": null,
      "metadata": {
        "id": "cik6iuTEJw0e",
        "outputId": "cec47995-b7c4-4cbb-93ad-ec883980543e"
      },
      "outputs": [
        {
          "name": "stdout",
          "output_type": "stream",
          "text": [
            "1 10 <class 'int'>\n",
            "2 20.5 <class 'float'>\n",
            "3 hola <class 'str'>\n",
            "4 10.0 <class 'float'>\n",
            "5 12 <class 'int'>\n"
          ]
        }
      ],
      "source": [
        "i=1\n",
        "while i<len(b):\n",
        "    print (i, b[i], type(b[i]))\n",
        "    i += 1"
      ]
    },
    {
      "cell_type": "markdown",
      "metadata": {
        "id": "IydMMupeJw0f"
      },
      "source": [
        "## Dictionaries"
      ]
    },
    {
      "cell_type": "code",
      "execution_count": null,
      "metadata": {
        "id": "XPZ0NSJLJw0f",
        "outputId": "258a52ae-9273-4d1c-8c28-909d9c09950b"
      },
      "outputs": [
        {
          "data": {
            "text/plain": [
              "16"
            ]
          },
          "execution_count": 68,
          "metadata": {},
          "output_type": "execute_result"
        }
      ],
      "source": [
        "d = {\"i1\": 16, \"nombre\": \"haskel\", \"edad\": 32, 20: \"el numero 20\"}\n",
        "\n",
        "d['i1']"
      ]
    },
    {
      "cell_type": "code",
      "execution_count": null,
      "metadata": {
        "id": "CGazmfxeJw0f",
        "outputId": "fd146240-85fa-4c4a-ad9c-b89daae94c35"
      },
      "outputs": [
        {
          "data": {
            "text/plain": [
              "'el numero 20'"
            ]
          },
          "execution_count": 69,
          "metadata": {},
          "output_type": "execute_result"
        }
      ],
      "source": [
        "d[20]"
      ]
    },
    {
      "cell_type": "code",
      "execution_count": null,
      "metadata": {
        "id": "ZpMssZ6ZJw0f",
        "outputId": "5e856f9e-a5cb-4233-8f75-21760d1e9dd6"
      },
      "outputs": [
        {
          "data": {
            "text/plain": [
              "dict_values([16, 'haskel', 32, 'el numero 20'])"
            ]
          },
          "execution_count": 70,
          "metadata": {},
          "output_type": "execute_result"
        }
      ],
      "source": [
        "d.values()"
      ]
    },
    {
      "cell_type": "code",
      "execution_count": null,
      "metadata": {
        "id": "LgThDTT4Jw0f",
        "outputId": "abbd39d8-41d2-4b40-bd62-6dcd8692fe9f"
      },
      "outputs": [
        {
          "data": {
            "text/plain": [
              "dict_keys(['i1', 'nombre', 'edad', 20])"
            ]
          },
          "execution_count": 71,
          "metadata": {},
          "output_type": "execute_result"
        }
      ],
      "source": [
        "d.keys()"
      ]
    },
    {
      "cell_type": "code",
      "execution_count": null,
      "metadata": {
        "id": "J0NOz4GjJw0f",
        "outputId": "2fd89ec2-fe2f-493a-d44f-dde5aa2f01db"
      },
      "outputs": [
        {
          "name": "stdout",
          "output_type": "stream",
          "text": [
            "la clave i1 tiene el valor 16\n",
            "la clave nombre tiene el valor haskel\n",
            "la clave edad tiene el valor 32\n",
            "la clave 20 tiene el valor el numero 20\n"
          ]
        }
      ],
      "source": [
        "for i in d.keys():\n",
        "    print(\"la clave\", i, \"tiene el valor\", d[i])"
      ]
    },
    {
      "cell_type": "code",
      "execution_count": null,
      "metadata": {
        "id": "-7ykf6l5Jw0g",
        "outputId": "dad568fa-a52c-4419-848c-44581db30c92"
      },
      "outputs": [
        {
          "name": "stdout",
          "output_type": "stream",
          "text": [
            "la clave i1 tiene el valor 16\n",
            "la clave nombre tiene el valor haskel\n",
            "la clave edad tiene el valor 32\n",
            "la clave 20 tiene el valor el numero 20\n"
          ]
        }
      ],
      "source": [
        "for k,v in d.items():\n",
        "    print(\"la clave\", k, \"tiene el valor\", v)"
      ]
    },
    {
      "cell_type": "markdown",
      "metadata": {
        "id": "Z13ttoiuJw0g"
      },
      "source": [
        "and can be updated"
      ]
    },
    {
      "cell_type": "code",
      "execution_count": null,
      "metadata": {
        "id": "7yPNsvocJw0g"
      },
      "outputs": [],
      "source": [
        "d[48] = \"otro numero\"\n",
        "d[\"nada\"] = 0"
      ]
    },
    {
      "cell_type": "code",
      "execution_count": null,
      "metadata": {
        "id": "-r24vPuFJw0g",
        "outputId": "00b65462-2d4d-4b16-9810-9d61d29eab19"
      },
      "outputs": [
        {
          "name": "stdout",
          "output_type": "stream",
          "text": [
            "la clave i1 tiene el valor 16\n",
            "la clave nombre tiene el valor haskel\n",
            "la clave edad tiene el valor 32\n",
            "la clave 20 tiene el valor el numero 20\n",
            "la clave 48 tiene el valor otro numero\n",
            "la clave nada tiene el valor 0\n"
          ]
        }
      ],
      "source": [
        "for k,v in d.items():\n",
        "    print(\"la clave\", k, \"tiene el valor\", v)"
      ]
    },
    {
      "cell_type": "markdown",
      "metadata": {
        "id": "fy0LozyTJw0g"
      },
      "source": [
        "## Tuples\n",
        "\n",
        "tuples are **inmutable** lists"
      ]
    },
    {
      "cell_type": "code",
      "execution_count": null,
      "metadata": {
        "id": "GQVq-nUXJw0g"
      },
      "outputs": [],
      "source": [
        "a = (10,3,4,5)"
      ]
    },
    {
      "cell_type": "code",
      "execution_count": null,
      "metadata": {
        "id": "KwgElbnDJw0h",
        "outputId": "131fb501-4539-4e54-dd0a-a9a91962dd1b"
      },
      "outputs": [
        {
          "data": {
            "text/plain": [
              "(5, (5, 4, 3, 10), 22)"
            ]
          },
          "execution_count": 6,
          "metadata": {},
          "output_type": "execute_result"
        }
      ],
      "source": [
        "a[3], a[::-1], sum(a)"
      ]
    },
    {
      "cell_type": "code",
      "execution_count": null,
      "metadata": {
        "id": "2QSa68EYJw0h",
        "outputId": "425203b8-fc67-4a86-c99d-785586860205"
      },
      "outputs": [
        {
          "ename": "TypeError",
          "evalue": "'tuple' object does not support item assignment",
          "output_type": "error",
          "traceback": [
            "\u001b[0;31m---------------------------------------------------------------------------\u001b[0m",
            "\u001b[0;31mTypeError\u001b[0m                                 Traceback (most recent call last)",
            "\u001b[0;32m<ipython-input-4-36ab6b9a6038>\u001b[0m in \u001b[0;36m<module>\u001b[0;34m\u001b[0m\n\u001b[0;32m----> 1\u001b[0;31m \u001b[0ma\u001b[0m\u001b[0;34m[\u001b[0m\u001b[0;36m3\u001b[0m\u001b[0;34m]\u001b[0m\u001b[0;34m=\u001b[0m\u001b[0;36m1\u001b[0m\u001b[0;34m\u001b[0m\u001b[0;34m\u001b[0m\u001b[0m\n\u001b[0m",
            "\u001b[0;31mTypeError\u001b[0m: 'tuple' object does not support item assignment"
          ]
        }
      ],
      "source": [
        "a[3]=1"
      ]
    },
    {
      "cell_type": "markdown",
      "metadata": {
        "id": "PfhvTxKuJw0h"
      },
      "source": [
        "and thus can be used for keys, indexing, etc."
      ]
    },
    {
      "cell_type": "code",
      "execution_count": null,
      "metadata": {
        "id": "NvFJp6_VJw0h",
        "outputId": "4653f0af-cf82-45c7-ddc0-299d37fe9959"
      },
      "outputs": [
        {
          "data": {
            "text/plain": [
              "{'hola': 3, 1: 'one', (4, 5): 'a tuple'}"
            ]
          },
          "execution_count": 8,
          "metadata": {},
          "output_type": "execute_result"
        }
      ],
      "source": [
        "d = {}\n",
        "d[\"hola\"] = 3\n",
        "d[1] = \"one\"\n",
        "d[(4,5)] = \"a tuple\"\n",
        "d"
      ]
    },
    {
      "cell_type": "markdown",
      "metadata": {
        "id": "RZRgePcGJw0h"
      },
      "source": [
        "however"
      ]
    },
    {
      "cell_type": "code",
      "execution_count": null,
      "metadata": {
        "id": "JuOXLMccJw0h",
        "outputId": "0f14992b-a5e6-4927-9ffd-eb0ddf0749f0"
      },
      "outputs": [
        {
          "ename": "TypeError",
          "evalue": "unhashable type: 'list'",
          "output_type": "error",
          "traceback": [
            "\u001b[0;31m---------------------------------------------------------------------------\u001b[0m",
            "\u001b[0;31mTypeError\u001b[0m                                 Traceback (most recent call last)",
            "\u001b[0;32m<ipython-input-9-857cb2d3ff14>\u001b[0m in \u001b[0;36m<module>\u001b[0;34m\u001b[0m\n\u001b[0;32m----> 1\u001b[0;31m \u001b[0md\u001b[0m\u001b[0;34m[\u001b[0m\u001b[0;34m[\u001b[0m\u001b[0;36m4\u001b[0m\u001b[0;34m,\u001b[0m\u001b[0;36m5\u001b[0m\u001b[0;34m]\u001b[0m\u001b[0;34m]\u001b[0m\u001b[0;34m\u001b[0m\u001b[0;34m\u001b[0m\u001b[0m\n\u001b[0m",
            "\u001b[0;31mTypeError\u001b[0m: unhashable type: 'list'"
          ]
        }
      ],
      "source": [
        "d[[4,5]]"
      ]
    },
    {
      "cell_type": "code",
      "execution_count": null,
      "metadata": {
        "id": "_XYFMdcVJw0i"
      },
      "outputs": [],
      "source": []
    }
  ],
  "metadata": {
    "kernelspec": {
      "display_name": "Python 3",
      "language": "python",
      "name": "python3"
    },
    "language_info": {
      "codemirror_mode": {
        "name": "ipython",
        "version": 3
      },
      "file_extension": ".py",
      "mimetype": "text/x-python",
      "name": "python",
      "nbconvert_exporter": "python",
      "pygments_lexer": "ipython3",
      "version": "3.7.6"
    },
    "colab": {
      "provenance": [],
      "include_colab_link": true
    }
  },
  "nbformat": 4,
  "nbformat_minor": 0
}