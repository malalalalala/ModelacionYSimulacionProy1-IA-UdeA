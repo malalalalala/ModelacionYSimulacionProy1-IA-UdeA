{
  "cells": [
    {
      "cell_type": "markdown",
      "metadata": {
        "id": "v50vEOyqlvzl"
      },
      "source": [
        "# 02.02 - MORE PYTHON"
      ]
    },
    {
      "cell_type": "code",
      "execution_count": null,
      "metadata": {
        "id": "1zjCAOr5lvzn"
      },
      "outputs": [],
      "source": [
        "!wget --no-cache -O init.py -q https://raw.githubusercontent.com/rramosp/ai4eng.v1/main/content/init.py\n",
        "import init; init.init(force_download=False); init.get_weblink()"
      ]
    },
    {
      "cell_type": "code",
      "execution_count": null,
      "metadata": {
        "id": "85X-l33elvzo"
      },
      "outputs": [],
      "source": [
        "import numpy as np"
      ]
    },
    {
      "cell_type": "markdown",
      "metadata": {
        "id": "mJBi24cllvzo"
      },
      "source": [
        "## Functions\n",
        "\n",
        "Recall that Python is an indented language. It does not uses any kind of brakets to delimit the scope of programming structures, which are signaled by **changes in indentation**\n",
        "\n",
        "Arguments types are not declared, implementation must be prepared to deal with the data types you want\n"
      ]
    },
    {
      "cell_type": "code",
      "execution_count": null,
      "metadata": {
        "id": "9x5BwAXrlvzo"
      },
      "outputs": [],
      "source": [
        "def f1(a,b):\n",
        "    r = a*2\n",
        "    return r+b\n",
        "\n",
        "def gt(a,b):\n",
        "    if a>b:\n",
        "        return a\n",
        "    else:\n",
        "        return b"
      ]
    },
    {
      "cell_type": "code",
      "execution_count": null,
      "metadata": {
        "id": "QVv5JdoDlvzp",
        "outputId": "0aae5e52-50fd-4a34-d7ff-b9736b9da41b"
      },
      "outputs": [
        {
          "data": {
            "text/plain": [
              "7"
            ]
          },
          "execution_count": 4,
          "metadata": {},
          "output_type": "execute_result"
        }
      ],
      "source": [
        "f1(2,3)"
      ]
    },
    {
      "cell_type": "code",
      "execution_count": null,
      "metadata": {
        "id": "YZbOiJo8lvzp",
        "outputId": "2d0a4303-818b-4fe5-96ab-a759a8ac61ad"
      },
      "outputs": [
        {
          "data": {
            "text/plain": [
              "['hola', 2, 'hola', 2, 3]"
            ]
          },
          "execution_count": 5,
          "metadata": {},
          "output_type": "execute_result"
        }
      ],
      "source": [
        "f1(['hola', 2], [3])"
      ]
    },
    {
      "cell_type": "code",
      "execution_count": null,
      "metadata": {
        "id": "Z2TqQunxlvzq",
        "outputId": "46e1d872-17d6-419d-c5c8-61c4e563daf9"
      },
      "outputs": [
        {
          "data": {
            "text/plain": [
              "'pepepepegotera'"
            ]
          },
          "execution_count": 6,
          "metadata": {},
          "output_type": "execute_result"
        }
      ],
      "source": [
        "f1('pepe', 'gotera')"
      ]
    },
    {
      "cell_type": "code",
      "execution_count": null,
      "metadata": {
        "id": "klYkztdnlvzq",
        "outputId": "89d00f6a-8848-483f-b0d8-486fec200078"
      },
      "outputs": [
        {
          "data": {
            "text/plain": [
              "4"
            ]
          },
          "execution_count": 7,
          "metadata": {},
          "output_type": "execute_result"
        }
      ],
      "source": [
        "gt(3,4)"
      ]
    },
    {
      "cell_type": "code",
      "execution_count": null,
      "metadata": {
        "id": "p4yGbj6_lvzq",
        "outputId": "3902d225-f236-4244-82b0-210fbc79f898"
      },
      "outputs": [
        {
          "data": {
            "text/plain": [
              "'hola'"
            ]
          },
          "execution_count": 8,
          "metadata": {},
          "output_type": "execute_result"
        }
      ],
      "source": [
        "gt(\"hola\",\"adios\")"
      ]
    },
    {
      "cell_type": "markdown",
      "metadata": {
        "id": "fANpsNBnlvzq"
      },
      "source": [
        "functions can have default values"
      ]
    },
    {
      "cell_type": "code",
      "execution_count": null,
      "metadata": {
        "id": "xcK1L8BOlvzq",
        "outputId": "191bb4c4-bf90-4f72-f91d-9acce2a2ae89"
      },
      "outputs": [
        {
          "data": {
            "text/plain": [
              "9"
            ]
          },
          "execution_count": 12,
          "metadata": {},
          "output_type": "execute_result"
        }
      ],
      "source": [
        "def f_power(x, p=2):\n",
        "    return x**p\n",
        "\n",
        "f_power(3)"
      ]
    },
    {
      "cell_type": "code",
      "execution_count": null,
      "metadata": {
        "id": "O-vSykYflvzr",
        "outputId": "4fea129d-2ae2-4c81-8cf5-077391cf51de"
      },
      "outputs": [
        {
          "data": {
            "text/plain": [
              "9"
            ]
          },
          "execution_count": 14,
          "metadata": {},
          "output_type": "execute_result"
        }
      ],
      "source": [
        "f_power(3,2)"
      ]
    },
    {
      "cell_type": "markdown",
      "metadata": {
        "id": "jdhsmUS0lvzr"
      },
      "source": [
        "args can be named when calling the function and, if so, **any order** is ok"
      ]
    },
    {
      "cell_type": "code",
      "execution_count": null,
      "metadata": {
        "id": "S6EEvnqglvzr",
        "outputId": "6cbc2b97-0c9f-41b6-f17b-a1cf064f6fc7"
      },
      "outputs": [
        {
          "data": {
            "text/plain": [
              "9"
            ]
          },
          "execution_count": 16,
          "metadata": {},
          "output_type": "execute_result"
        }
      ],
      "source": [
        "f_power(p=2, x=3)"
      ]
    },
    {
      "cell_type": "markdown",
      "metadata": {
        "id": "ErHwKujplvzr"
      },
      "source": [
        "functions can have functions defined within, but they are only visible inside the function"
      ]
    },
    {
      "cell_type": "code",
      "execution_count": null,
      "metadata": {
        "id": "LArW6mwIlvzr"
      },
      "outputs": [],
      "source": [
        "def f(a,b):\n",
        "    def squared(x):\n",
        "        return x**2\n",
        "    return squared(a+b)"
      ]
    },
    {
      "cell_type": "code",
      "execution_count": null,
      "metadata": {
        "id": "cVJCxHpxlvzr",
        "outputId": "c303c184-e372-4585-9663-9ae09f53908b"
      },
      "outputs": [
        {
          "data": {
            "text/plain": [
              "25"
            ]
          },
          "execution_count": 21,
          "metadata": {},
          "output_type": "execute_result"
        }
      ],
      "source": [
        "f(2,3)"
      ]
    },
    {
      "cell_type": "code",
      "execution_count": null,
      "metadata": {
        "id": "HHL4yeFDlvzs",
        "outputId": "431894d6-49a1-400e-cfef-af6eed461f1b"
      },
      "outputs": [
        {
          "ename": "NameError",
          "evalue": "name 'squared' is not defined",
          "output_type": "error",
          "traceback": [
            "\u001b[0;31m---------------------------------------------------------------------------\u001b[0m",
            "\u001b[0;31mNameError\u001b[0m                                 Traceback (most recent call last)",
            "\u001b[0;32m<ipython-input-22-6fadce67701d>\u001b[0m in \u001b[0;36m<module>\u001b[0;34m\u001b[0m\n\u001b[0;32m----> 1\u001b[0;31m \u001b[0msquared\u001b[0m\u001b[0;34m(\u001b[0m\u001b[0;36m3\u001b[0m\u001b[0;34m)\u001b[0m\u001b[0;34m\u001b[0m\u001b[0;34m\u001b[0m\u001b[0m\n\u001b[0m",
            "\u001b[0;31mNameError\u001b[0m: name 'squared' is not defined"
          ]
        }
      ],
      "source": [
        "squared(3)"
      ]
    },
    {
      "cell_type": "markdown",
      "metadata": {
        "id": "-D7FTfstlvzs"
      },
      "source": [
        "functions are regular python objects which can be passed around"
      ]
    },
    {
      "cell_type": "code",
      "execution_count": null,
      "metadata": {
        "id": "2YsvucFflvzs"
      },
      "outputs": [],
      "source": [
        "def apply_if_int(f, x):\n",
        "    if type(x)==int:\n",
        "        return f(x)\n",
        "\n",
        "    return x"
      ]
    },
    {
      "cell_type": "code",
      "execution_count": null,
      "metadata": {
        "id": "5qw2gazqlvzs"
      },
      "outputs": [],
      "source": [
        "def cubed(x):\n",
        "    return x**3"
      ]
    },
    {
      "cell_type": "code",
      "execution_count": null,
      "metadata": {
        "id": "9oLIyqMalvzs",
        "outputId": "27afe7a5-e5c7-46b8-9ff5-3dcf778fce7b"
      },
      "outputs": [
        {
          "data": {
            "text/plain": [
              "27"
            ]
          },
          "execution_count": 26,
          "metadata": {},
          "output_type": "execute_result"
        }
      ],
      "source": [
        "apply_if_int(cubed, 3)"
      ]
    },
    {
      "cell_type": "code",
      "execution_count": null,
      "metadata": {
        "id": "dxMgJEV1lvzs",
        "outputId": "be275581-e5d7-4700-bbd4-ed5fbb27e0dc"
      },
      "outputs": [
        {
          "data": {
            "text/plain": [
              "3.0"
            ]
          },
          "execution_count": 27,
          "metadata": {},
          "output_type": "execute_result"
        }
      ],
      "source": [
        "apply_if_int(cubed, 3.)"
      ]
    },
    {
      "cell_type": "markdown",
      "metadata": {
        "id": "IjQNV2tjlvzt"
      },
      "source": [
        "`map` exploits this"
      ]
    },
    {
      "cell_type": "code",
      "execution_count": null,
      "metadata": {
        "id": "oFl6IHTblvzt",
        "outputId": "516ecb43-88fa-42cb-d139-664884292eae"
      },
      "outputs": [
        {
          "data": {
            "text/plain": [
              "<map at 0x7fa8f84f8c10>"
            ]
          },
          "execution_count": 32,
          "metadata": {},
          "output_type": "execute_result"
        }
      ],
      "source": [
        "map(cubed, [10,20,3,-2,9])"
      ]
    },
    {
      "cell_type": "code",
      "execution_count": null,
      "metadata": {
        "id": "d3Lqf7MJlvzt",
        "outputId": "e301b0fa-85f0-4b3e-b11d-a48cda61f2c0"
      },
      "outputs": [
        {
          "data": {
            "text/plain": [
              "[1000, 8000, 27, -8, 729]"
            ]
          },
          "execution_count": 33,
          "metadata": {},
          "output_type": "execute_result"
        }
      ],
      "source": [
        "list(map(cubed, [10,20,3,-2,9]))"
      ]
    },
    {
      "cell_type": "markdown",
      "metadata": {
        "id": "3PxPCNmplvzt"
      },
      "source": [
        "**lambda** functions are like constants"
      ]
    },
    {
      "cell_type": "code",
      "execution_count": null,
      "metadata": {
        "id": "V1TRYDJGlvzt",
        "outputId": "bcbc0a48-c6cb-4b77-f7c6-57b8ea235cc1"
      },
      "outputs": [
        {
          "data": {
            "text/plain": [
              "[100, 400, 9, 4, 81]"
            ]
          },
          "execution_count": 34,
          "metadata": {},
          "output_type": "execute_result"
        }
      ],
      "source": [
        "list(map(lambda x: x**2, [10,20,3,-2,9]))"
      ]
    },
    {
      "cell_type": "markdown",
      "metadata": {
        "id": "7pReNELDlvzt"
      },
      "source": [
        "and can even be used to define simple functions"
      ]
    },
    {
      "cell_type": "code",
      "execution_count": null,
      "metadata": {
        "id": "85tGmsQ2lvzt",
        "outputId": "69c45e78-76a3-409e-e401-1d4c0b1e5ce2"
      },
      "outputs": [
        {
          "data": {
            "text/plain": [
              "64"
            ]
          },
          "execution_count": 35,
          "metadata": {},
          "output_type": "execute_result"
        }
      ],
      "source": [
        "sqrd = lambda x: x**2\n",
        "sqrd(8)"
      ]
    },
    {
      "cell_type": "code",
      "execution_count": null,
      "metadata": {
        "id": "UwvglNfQlvzu",
        "outputId": "82754b20-0ed3-4f0f-f414-b505a41ff0b4"
      },
      "outputs": [
        {
          "data": {
            "text/plain": [
              "[100, 400, 9, 4, 81]"
            ]
          },
          "execution_count": 36,
          "metadata": {},
          "output_type": "execute_result"
        }
      ],
      "source": [
        "list(map(sqrd, [10,20,3,-2,9]))"
      ]
    },
    {
      "cell_type": "markdown",
      "metadata": {
        "id": "3RHTYBcGlvzu"
      },
      "source": [
        "## Exceptions"
      ]
    },
    {
      "cell_type": "markdown",
      "metadata": {
        "id": "C5HPCPpTlvzu"
      },
      "source": [
        "**catching**"
      ]
    },
    {
      "cell_type": "code",
      "execution_count": null,
      "metadata": {
        "id": "EPVzyu9Olvzu",
        "outputId": "ee553b1d-4404-4ac0-862a-7fbf6fedd8fd"
      },
      "outputs": [
        {
          "data": {
            "text/plain": [
              "3"
            ]
          },
          "execution_count": 47,
          "metadata": {},
          "output_type": "execute_result"
        }
      ],
      "source": [
        "int(3.2)"
      ]
    },
    {
      "cell_type": "code",
      "execution_count": null,
      "metadata": {
        "id": "86WaqfOXlvzu",
        "outputId": "b71359e4-6dd6-415d-9214-9889fab202b8"
      },
      "outputs": [
        {
          "ename": "ValueError",
          "evalue": "invalid literal for int() with base 10: 'hola'",
          "output_type": "error",
          "traceback": [
            "\u001b[0;31m---------------------------------------------------------------------------\u001b[0m",
            "\u001b[0;31mValueError\u001b[0m                                Traceback (most recent call last)",
            "\u001b[0;32m<ipython-input-48-62025142aa33>\u001b[0m in \u001b[0;36m<module>\u001b[0;34m\u001b[0m\n\u001b[0;32m----> 1\u001b[0;31m \u001b[0mint\u001b[0m\u001b[0;34m(\u001b[0m\u001b[0;34m\"hola\"\u001b[0m\u001b[0;34m)\u001b[0m\u001b[0;34m\u001b[0m\u001b[0;34m\u001b[0m\u001b[0m\n\u001b[0m",
            "\u001b[0;31mValueError\u001b[0m: invalid literal for int() with base 10: 'hola'"
          ]
        }
      ],
      "source": [
        "int(\"hola\")"
      ]
    },
    {
      "cell_type": "code",
      "execution_count": null,
      "metadata": {
        "id": "077sjIyVlvzu"
      },
      "outputs": [],
      "source": [
        "def int_times_two(x):\n",
        "    try:\n",
        "        return(int(x)*2)\n",
        "    except ValueError:\n",
        "        return 0\n",
        "\n"
      ]
    },
    {
      "cell_type": "code",
      "execution_count": null,
      "metadata": {
        "id": "veXQ26TNlvzu",
        "outputId": "997047c3-c80e-4300-9526-7da0815f6327"
      },
      "outputs": [
        {
          "data": {
            "text/plain": [
              "4"
            ]
          },
          "execution_count": 10,
          "metadata": {},
          "output_type": "execute_result"
        }
      ],
      "source": [
        "int_times_two(2)"
      ]
    },
    {
      "cell_type": "code",
      "execution_count": null,
      "metadata": {
        "id": "29wtfiULlvzv",
        "outputId": "300c03ce-f6ee-41cc-d6d2-f833516c90d4"
      },
      "outputs": [
        {
          "data": {
            "text/plain": [
              "4"
            ]
          },
          "execution_count": 11,
          "metadata": {},
          "output_type": "execute_result"
        }
      ],
      "source": [
        "int_times_two(2.5)"
      ]
    },
    {
      "cell_type": "code",
      "execution_count": null,
      "metadata": {
        "id": "zSk16kedlvzz",
        "outputId": "d9a7670a-52f3-451c-d895-dc3c123072ca"
      },
      "outputs": [
        {
          "data": {
            "text/plain": [
              "0"
            ]
          },
          "execution_count": 12,
          "metadata": {},
          "output_type": "execute_result"
        }
      ],
      "source": [
        "int_times_two(\"hola\")"
      ]
    },
    {
      "cell_type": "markdown",
      "metadata": {
        "id": "xiqHHEHQlvzz"
      },
      "source": [
        "**raising**"
      ]
    },
    {
      "cell_type": "code",
      "execution_count": null,
      "metadata": {
        "id": "tTkLNXm1lvzz"
      },
      "outputs": [],
      "source": [
        "def get_positive_integer_from_user():\n",
        "    a = int(input(\"Enter a positive integer: \"))\n",
        "    if a <= 0:\n",
        "        raise ValueError(\"That is not a positive number!\")\n",
        "    print (\"thanks!\")"
      ]
    },
    {
      "cell_type": "code",
      "execution_count": null,
      "metadata": {
        "id": "zgvd9rLFlvzz",
        "outputId": "d128f3b7-a17f-4322-8d2d-5cfc519a7ded"
      },
      "outputs": [
        {
          "name": "stdout",
          "output_type": "stream",
          "text": [
            "Enter a positive integer: 3\n",
            "thanks!\n"
          ]
        }
      ],
      "source": [
        "get_positive_integer_from_user()"
      ]
    },
    {
      "cell_type": "code",
      "execution_count": null,
      "metadata": {
        "id": "_TG3GMHMlvz0",
        "outputId": "a3fdd0cb-31f3-497e-fc1f-edf95fb01e94"
      },
      "outputs": [
        {
          "name": "stdout",
          "output_type": "stream",
          "text": [
            "Enter a positive integer: -1\n"
          ]
        },
        {
          "ename": "ValueError",
          "evalue": "That is not a positive number!",
          "output_type": "error",
          "traceback": [
            "\u001b[0;31m---------------------------------------------------------------------------\u001b[0m",
            "\u001b[0;31mValueError\u001b[0m                                Traceback (most recent call last)",
            "\u001b[0;32m<ipython-input-57-ea5635cae962>\u001b[0m in \u001b[0;36m<module>\u001b[0;34m\u001b[0m\n\u001b[0;32m----> 1\u001b[0;31m \u001b[0mget_positive_integer_from_user\u001b[0m\u001b[0;34m(\u001b[0m\u001b[0;34m)\u001b[0m\u001b[0;34m\u001b[0m\u001b[0;34m\u001b[0m\u001b[0m\n\u001b[0m",
            "\u001b[0;32m<ipython-input-55-a7d1640efb92>\u001b[0m in \u001b[0;36mget_positive_integer_from_user\u001b[0;34m()\u001b[0m\n\u001b[1;32m      2\u001b[0m     \u001b[0ma\u001b[0m \u001b[0;34m=\u001b[0m \u001b[0mint\u001b[0m\u001b[0;34m(\u001b[0m\u001b[0minput\u001b[0m\u001b[0;34m(\u001b[0m\u001b[0;34m\"Enter a positive integer: \"\u001b[0m\u001b[0;34m)\u001b[0m\u001b[0;34m)\u001b[0m\u001b[0;34m\u001b[0m\u001b[0;34m\u001b[0m\u001b[0m\n\u001b[1;32m      3\u001b[0m     \u001b[0;32mif\u001b[0m \u001b[0ma\u001b[0m \u001b[0;34m<=\u001b[0m \u001b[0;36m0\u001b[0m\u001b[0;34m:\u001b[0m\u001b[0;34m\u001b[0m\u001b[0;34m\u001b[0m\u001b[0m\n\u001b[0;32m----> 4\u001b[0;31m         \u001b[0;32mraise\u001b[0m \u001b[0mValueError\u001b[0m\u001b[0;34m(\u001b[0m\u001b[0;34m\"That is not a positive number!\"\u001b[0m\u001b[0;34m)\u001b[0m\u001b[0;34m\u001b[0m\u001b[0;34m\u001b[0m\u001b[0m\n\u001b[0m\u001b[1;32m      5\u001b[0m     \u001b[0mprint\u001b[0m \u001b[0;34m(\u001b[0m\u001b[0;34m\"thanks!\"\u001b[0m\u001b[0;34m)\u001b[0m\u001b[0;34m\u001b[0m\u001b[0;34m\u001b[0m\u001b[0m\n",
            "\u001b[0;31mValueError\u001b[0m: That is not a positive number!"
          ]
        }
      ],
      "source": [
        "get_positive_integer_from_user()"
      ]
    },
    {
      "cell_type": "markdown",
      "metadata": {
        "id": "j2iwld1elvz0"
      },
      "source": [
        "## Comprehensions"
      ]
    },
    {
      "cell_type": "markdown",
      "metadata": {
        "id": "RTubDlrNlvz0"
      },
      "source": [
        "**IF**"
      ]
    },
    {
      "cell_type": "code",
      "execution_count": null,
      "metadata": {
        "id": "4abic0WClvz0",
        "outputId": "7685ac30-262e-4c18-d0f4-082c2ef4bcc8"
      },
      "outputs": [
        {
          "name": "stdout",
          "output_type": "stream",
          "text": [
            "mayor que 10\n"
          ]
        }
      ],
      "source": [
        "a=15\n",
        "if a > 10:\n",
        "    s = \"mayor que 10\"\n",
        "else:\n",
        "    s = \"menor que 10\"\n",
        "\n",
        "print(s)"
      ]
    },
    {
      "cell_type": "code",
      "execution_count": null,
      "metadata": {
        "id": "60OqnN9mlvz0",
        "outputId": "21aafa19-786b-4bf3-de7f-15d26c38aeb4"
      },
      "outputs": [
        {
          "name": "stdout",
          "output_type": "stream",
          "text": [
            "menor que 10\n"
          ]
        }
      ],
      "source": [
        "a = 5\n",
        "s = \"mayor que 10\" if a > 10 else \"menor que 10\"\n",
        "print(s)"
      ]
    },
    {
      "cell_type": "markdown",
      "metadata": {
        "id": "vw7b8RHTlvz0"
      },
      "source": [
        "**FOR**"
      ]
    },
    {
      "cell_type": "code",
      "execution_count": null,
      "metadata": {
        "id": "bMgYyYoElvz0"
      },
      "outputs": [],
      "source": [
        "b = [1,10, 20.5, \"hola\", 10.4, 12]"
      ]
    },
    {
      "cell_type": "code",
      "execution_count": null,
      "metadata": {
        "id": "_jOpHCcElvz1",
        "outputId": "ee49fa06-9ca4-4c25-ba55-2ba65972227e"
      },
      "outputs": [
        {
          "data": {
            "text/plain": [
              "[2, 20, 40, 0, 20, 24]"
            ]
          },
          "execution_count": 60,
          "metadata": {},
          "output_type": "execute_result"
        }
      ],
      "source": [
        "r = []\n",
        "for i in b:\n",
        "    r.append(int_times_two(i))\n",
        "r"
      ]
    },
    {
      "cell_type": "code",
      "execution_count": null,
      "metadata": {
        "id": "VLnlhrBolvz1",
        "outputId": "2c151e41-551c-4b32-a0eb-4d19048e0134"
      },
      "outputs": [
        {
          "data": {
            "text/plain": [
              "[2, 20, 40, 0, 20, 24]"
            ]
          },
          "execution_count": 62,
          "metadata": {},
          "output_type": "execute_result"
        }
      ],
      "source": [
        "r = [int_times_two(i) for i in b]\n",
        "r"
      ]
    },
    {
      "cell_type": "markdown",
      "metadata": {
        "id": "O6P32_OPlvz1"
      },
      "source": [
        "**FOR / IF filter**"
      ]
    },
    {
      "cell_type": "code",
      "execution_count": null,
      "metadata": {
        "id": "Uz2yIpMulvz1",
        "outputId": "c3efac4e-bd1f-417e-948b-5c0b6e2f20eb"
      },
      "outputs": [
        {
          "data": {
            "text/plain": [
              "[40, 0, 20, 24]"
            ]
          },
          "execution_count": 67,
          "metadata": {},
          "output_type": "execute_result"
        }
      ],
      "source": [
        "r = [int_times_two(i) for i in b if type(i)!=int or i > 10]\n",
        "r"
      ]
    },
    {
      "cell_type": "markdown",
      "metadata": {
        "id": "iyZuHwktlvz1"
      },
      "source": [
        "**DICT**"
      ]
    },
    {
      "cell_type": "code",
      "execution_count": null,
      "metadata": {
        "id": "EX7Mlxzolvz1",
        "outputId": "c89c36d7-499a-479a-903b-f2a50d8e36b5"
      },
      "outputs": [
        {
          "data": {
            "text/plain": [
              "{20.5: 40, 'hola': 0, 10.4: 20, 12: 24}"
            ]
          },
          "execution_count": 69,
          "metadata": {},
          "output_type": "execute_result"
        }
      ],
      "source": [
        "r = {i: int_times_two(i) for i in b if type(i)!=int or i > 10}\n",
        "r"
      ]
    },
    {
      "cell_type": "code",
      "execution_count": null,
      "metadata": {
        "id": "28_XAjeLlvz2",
        "outputId": "0e3ed362-1a58-4664-f3be-fe8724c6d8da"
      },
      "outputs": [
        {
          "data": {
            "text/plain": [
              "0"
            ]
          },
          "execution_count": 70,
          "metadata": {},
          "output_type": "execute_result"
        }
      ],
      "source": [
        "r['hola']"
      ]
    },
    {
      "cell_type": "code",
      "execution_count": null,
      "metadata": {
        "id": "0DFNdjRHlvz2"
      },
      "outputs": [],
      "source": []
    }
  ],
  "metadata": {
    "kernelspec": {
      "display_name": "p37",
      "language": "python",
      "name": "p37"
    },
    "language_info": {
      "codemirror_mode": {
        "name": "ipython",
        "version": 3
      },
      "file_extension": ".py",
      "mimetype": "text/x-python",
      "name": "python",
      "nbconvert_exporter": "python",
      "pygments_lexer": "ipython3",
      "version": "3.7.6"
    },
    "colab": {
      "provenance": []
    }
  },
  "nbformat": 4,
  "nbformat_minor": 0
}